{
 "cells": [
  {
   "cell_type": "code",
   "execution_count": 1,
   "metadata": {},
   "outputs": [],
   "source": [
    "import numpy as np\n",
    "from sklearn.preprocessing import MinMaxScaler\n",
    "from functools import partial\n",
    "\n",
    "from matplotlib import pyplot as plt"
   ]
  },
  {
   "cell_type": "code",
   "execution_count": 147,
   "metadata": {},
   "outputs": [],
   "source": [
    "w      = np.diag([1/6, 1/6, 1/6, 1/6, 1/6, 1/6])\n",
    "q_real = np.array([1,2,3, 5, 8, 4])\n",
    "order  = 3"
   ]
  },
  {
   "cell_type": "code",
   "execution_count": 3,
   "metadata": {},
   "outputs": [],
   "source": [
    "#scalar product with weights\n",
    "def dot_w(a, b, w, q):\n",
    "    return sum([a(q_) * b(q_) * w[i, i] for i, q_ in enumerate(q)])"
   ]
  },
  {
   "cell_type": "code",
   "execution_count": 180,
   "metadata": {
    "scrolled": true
   },
   "outputs": [],
   "source": [
    "class OrthoPolyRef:\n",
    "    \n",
    "    def __init__(self, parent_set, i, normed=False):\n",
    "        self.parent_set = parent_set\n",
    "        self.i          = i\n",
    "        self.normed     = normed\n",
    "    \n",
    "    def __call__(self, q_):\n",
    "        q = q_ if self.normed else self.parent_set.normed(q_)\n",
    "        \n",
    "        if isinstance(q, (list,tuple,np.ndarray)):\n",
    "            return np.array([self.parent_set.get_result(self.i, q_) for q_ in q])\n",
    "        \n",
    "        return self.parent_set.get_result(self.i, q)\n",
    "\n",
    "class OrthoPolyBase:\n",
    "    \n",
    "    def __init__(self, q, w, order):\n",
    "        self.q_real = q\n",
    "        self.w      = w\n",
    "        \n",
    "        self.order  = order\n",
    "        \n",
    "        self.a      = [np.nan] * (order + 1)\n",
    "        self.b      = [np.nan] * (order + 1)\n",
    "        self.c      = [np.nan] * (order + 1)\n",
    "        \n",
    "        self.cache  = { }\n",
    "        \n",
    "        self._calculate_initial_state ()\n",
    "        self._calculate_params ()\n",
    "    \n",
    "    def normed(self, x):\n",
    "        q_min, q_max = self.q_real.min(), self.q_real.max()\n",
    "        return 2 * x / (q_max - q_min) - (q_max + q_min) / np.abs(q_max - q_min)\n",
    "    \n",
    "    def _calculate_initial_state (self):\n",
    "        self.q = self.normed(self.q_real)\n",
    "        \n",
    "        self.b[0] = np.sqrt(self.w.sum())\n",
    "        self.c[0] = 1 / self.b[0]\n",
    "        \n",
    "        for q in self.q:\n",
    "            self.cache[(0, q)] = self.c[0]\n",
    "    \n",
    "    def _calculate_params(self):\n",
    "        for i in range(0, self.order):\n",
    "            P  = self\n",
    "            qP = lambda q: q * P[i, True](q)\n",
    "            \n",
    "            a = dot_w(P[i, True], qP, self.w, self.q)\n",
    "            c = 1 / np.sqrt( dot_w(qP, qP, self.w, self.q) - a**2 - (b**2 if i > 0 else 0) )\n",
    "            b = 1 / c\n",
    "            \n",
    "            self.a[i+1] = a\n",
    "            self.b[i+1] = b\n",
    "            self.c[i+1] = c\n",
    "            \n",
    "            for q in self.q:\n",
    "                self.cache[(i+1, q)] = c * ((q-a) * P[i, True](q) - (self.b[i] * P[i-1, True](q) if i > 0 else 0))\n",
    "    \n",
    "    def _calculate_result(self, i, q):\n",
    "        P  = self\n",
    "        \n",
    "        if i == 0:\n",
    "            return self.c[0]\n",
    "        \n",
    "        return self.c[i] * ((q - self.a[i]) * P[i-1, True](q) - (self.b[i-1] * P[i-2, True](q) if i > 1 else 0))\n",
    "    \n",
    "    def get_result(self, i, x):\n",
    "        #cache the q points\n",
    "        if x in self.q_real:\n",
    "            if (i, x) not in self.cache:\n",
    "                self.cache[(i, x)] = self._calculate_result(i, x)\n",
    "            \n",
    "            return self.cache[(i, x)]\n",
    "        else:\n",
    "            return self._calculate_result(i, x)\n",
    "    \n",
    "    def __getitem__(self, order):\n",
    "        normed = False\n",
    "        \n",
    "        if isinstance(order, (tuple, list, np.ndarray)) and len(order) > 1:\n",
    "            normed = order[1]\n",
    "            order  = order[0]\n",
    "        \n",
    "        return OrthoPolyRef(self, order, normed)\n",
    "    \n",
    "    def plot_functions (self, ax):\n",
    "        x=np.linspace(self.q_real.min(), self.q_real.max(), 100)\n",
    "        \n",
    "        for i in range(self.order+1):\n",
    "            ax.plot(x, self[i](x))\n",
    "        \n",
    "        plt.xlabel(\"q\");\n",
    "        \n",
    "        ax2 = ax.twiny()\n",
    "        ax2.set_xlim(ax1.get_xlim())\n",
    "        ax2.set_xticks(self.q_real)\n",
    "        ax2.set_xticklabels( [\"%.2f\" % q for q in self.q])\n",
    "        ax2.set_xlabel(\"$q_{\\mathrm{norm}}$\")"
   ]
  },
  {
   "cell_type": "code",
   "execution_count": 181,
   "metadata": {
    "scrolled": true
   },
   "outputs": [],
   "source": [
    "base = OrthoPolyBase(q_real, w, order)"
   ]
  },
  {
   "cell_type": "markdown",
   "metadata": {},
   "source": [
    "## Tests"
   ]
  },
  {
   "cell_type": "markdown",
   "metadata": {},
   "source": [
    "#### 0. order cached"
   ]
  },
  {
   "cell_type": "code",
   "execution_count": 71,
   "metadata": {},
   "outputs": [
    {
     "data": {
      "text/plain": [
       "1.0000000000000002"
      ]
     },
     "execution_count": 71,
     "metadata": {},
     "output_type": "execute_result"
    }
   ],
   "source": [
    "base[0](1)"
   ]
  },
  {
   "cell_type": "markdown",
   "metadata": {},
   "source": [
    "#### 0. order non-cached"
   ]
  },
  {
   "cell_type": "code",
   "execution_count": 72,
   "metadata": {},
   "outputs": [
    {
     "data": {
      "text/plain": [
       "1.0000000000000002"
      ]
     },
     "execution_count": 72,
     "metadata": {},
     "output_type": "execute_result"
    }
   ],
   "source": [
    "base[0](0.12345346724727)"
   ]
  },
  {
   "cell_type": "markdown",
   "metadata": {},
   "source": [
    "#### 1. order cached"
   ]
  },
  {
   "cell_type": "code",
   "execution_count": 73,
   "metadata": {},
   "outputs": [
    {
     "data": {
      "text/plain": [
       "-1.4638501094227998"
      ]
     },
     "execution_count": 73,
     "metadata": {},
     "output_type": "execute_result"
    }
   ],
   "source": [
    "base[1](1)"
   ]
  },
  {
   "cell_type": "markdown",
   "metadata": {},
   "source": [
    "#### 1. order non-cached"
   ]
  },
  {
   "cell_type": "code",
   "execution_count": 74,
   "metadata": {},
   "outputs": [
    {
     "data": {
      "text/plain": [
       "-1.9771032045765036"
      ]
     },
     "execution_count": 74,
     "metadata": {},
     "output_type": "execute_result"
    }
   ],
   "source": [
    "base[1](0.12345346724727)"
   ]
  },
  {
   "cell_type": "markdown",
   "metadata": {},
   "source": [
    "#### Cache"
   ]
  },
  {
   "cell_type": "code",
   "execution_count": 75,
   "metadata": {
    "scrolled": false
   },
   "outputs": [
    {
     "data": {
      "text/plain": [
       "{(0, -0.9999999999999999): 1.0000000000000002,\n",
       " (0, -0.5999999999999999): 1.0000000000000002,\n",
       " (0, -0.19999999999999996): 1.0000000000000002,\n",
       " (0, 0.6000000000000001): 1.0000000000000002,\n",
       " (0, 1.0): 1.0000000000000002,\n",
       " (0, 0.20000000000000018): 1.0000000000000002,\n",
       " (1, -0.9999999999999999): -1.4638501094227998,\n",
       " (1, -0.5999999999999999): -0.8783100656536799,\n",
       " (1, -0.19999999999999996): -0.2927700218845601,\n",
       " (1, 0.6000000000000001): 0.8783100656536799,\n",
       " (1, 1.0): 1.4638501094227996,\n",
       " (1, 0.20000000000000018): 0.2927700218845601,\n",
       " (2, -0.9999999999999999): 1.3363062095621219,\n",
       " (2, -0.5999999999999999): -0.267261241912425,\n",
       " (2, -0.19999999999999996): -1.0690449676496983,\n",
       " (2, 0.6000000000000001): -0.2672612419124246,\n",
       " (2, 1.0): 1.3363062095621219,\n",
       " (2, 0.20000000000000018): -1.0690449676496983,\n",
       " (3, -0.9999999999999999): -0.9128709291752771,\n",
       " (3, -0.5999999999999999): 1.2780193008453875,\n",
       " (3, -0.19999999999999996): 0.7302967433402215,\n",
       " (3, 0.6000000000000001): -1.2780193008453873,\n",
       " (3, 1.0): 0.9128709291752773,\n",
       " (3, 0.20000000000000018): -0.7302967433402219}"
      ]
     },
     "execution_count": 75,
     "metadata": {},
     "output_type": "execute_result"
    }
   ],
   "source": [
    "base.cache"
   ]
  },
  {
   "cell_type": "markdown",
   "metadata": {},
   "source": [
    "#### Polynomials"
   ]
  },
  {
   "cell_type": "code",
   "execution_count": 184,
   "metadata": {},
   "outputs": [
    {
     "data": {
      "image/png": "[encoded data removed]",
      "text/plain": [
       "<Figure size 432x288 with 2 Axes>"
      ]
     },
     "metadata": {
      "needs_background": "light"
     },
     "output_type": "display_data"
    },
    {
     "data": {
      "image/png": "[encoded data removed]",
      "text/plain": [
       "<Figure size 432x288 with 2 Axes>"
      ]
     },
     "metadata": {
      "needs_background": "light"
     },
     "output_type": "display_data"
    },
    {
     "data": {
      "image/png": "[encoded data removed]",
      "text/plain": [
       "<Figure size 432x288 with 2 Axes>"
      ]
     },
     "metadata": {
      "needs_background": "light"
     },
     "output_type": "display_data"
    }
   ],
   "source": [
    "OrthoPolyBase(q_real, w, order).plot_functions(plt.gca())\n",
    "plt.savefig(\"figures/ortho_poly_1.svg\", bbox_inches=\"tight\")\n",
    "plt.show()\n",
    "\n",
    "w_   = np.diag([1, 1, 1, 1/6, 1/6, 1/6])\n",
    "OrthoPolyBase(q_real, w_, order).plot_functions(plt.gca())\n",
    "plt.savefig(\"figures/ortho_poly_2.svg\", bbox_inches=\"tight\")\n",
    "plt.show()\n",
    "\n",
    "w_   = np.diag([100, 1, 1/6, 1/6, 1/6, 1/6])\n",
    "OrthoPolyBase(q_real, w_, order).plot_functions(plt.gca())\n",
    "plt.savefig(\"figures/ortho_poly_3.svg\", bbox_inches=\"tight\")\n",
    "plt.show()"
   ]
  },
  {
   "cell_type": "markdown",
   "metadata": {},
   "source": [
    "# Fitting"
   ]
  },
  {
   "cell_type": "code",
   "execution_count": 77,
   "metadata": {},
   "outputs": [],
   "source": [
    "Y = np.array([1,2,3,4, 10, 12])"
   ]
  },
  {
   "cell_type": "code",
   "execution_count": 78,
   "metadata": {},
   "outputs": [
    {
     "data": {
      "text/plain": [
       "1024"
      ]
     },
     "execution_count": 78,
     "metadata": {},
     "output_type": "execute_result"
    }
   ],
   "source": [
    "np.kron(Y, Y[:, np.newaxis]).sum()"
   ]
  },
  {
   "cell_type": "code",
   "execution_count": 79,
   "metadata": {},
   "outputs": [
    {
     "data": {
      "text/plain": [
       "array([1., 1., 1., 1., 1., 1.])"
      ]
     },
     "execution_count": 79,
     "metadata": {},
     "output_type": "execute_result"
    }
   ],
   "source": [
    "base[0](q_real)"
   ]
  },
  {
   "cell_type": "code",
   "execution_count": 80,
   "metadata": {},
   "outputs": [
    {
     "data": {
      "text/plain": [
       "array([[ 0.16666667,  0.        ,  0.        ,  0.        ,  0.        ,\n",
       "         0.        ],\n",
       "       [ 0.        ,  0.66666667,  0.        ,  0.        ,  0.        ,\n",
       "         0.        ],\n",
       "       [ 0.        ,  0.        ,  1.5       ,  0.        ,  0.        ,\n",
       "         0.        ],\n",
       "       [ 0.        ,  0.        ,  0.        ,  3.33333333,  0.        ,\n",
       "         0.        ],\n",
       "       [ 0.        ,  0.        ,  0.        ,  0.        , 10.        ,\n",
       "         0.        ],\n",
       "       [ 0.        ,  0.        ,  0.        ,  0.        ,  0.        ,\n",
       "         8.        ]])"
      ]
     },
     "execution_count": 80,
     "metadata": {},
     "output_type": "execute_result"
    }
   ],
   "source": [
    "np.kron(Y[:, np.newaxis], q_real) * w"
   ]
  },
  {
   "cell_type": "code",
   "execution_count": 174,
   "metadata": {
    "scrolled": true
   },
   "outputs": [],
   "source": [
    "B   = [(np.kron(Y[:, np.newaxis], base[z](q_real)) * w).sum() for z in range(order+1)]\n",
    "Phi = [[(np.kron(base[r](q_real)[:, np.newaxis], base[z](q_real)) * w).sum() for z in range(order+1)] for r in range(order+1)]"
   ]
  },
  {
   "cell_type": "code",
   "execution_count": null,
   "metadata": {},
   "outputs": [],
   "source": []
  }
 ],
 "metadata": {
  "kernelspec": {
   "display_name": "Python 3",
   "language": "python",
   "name": "python3"
  },
  "language_info": {
   "codemirror_mode": {
    "name": "ipython",
    "version": 3
   },
   "file_extension": ".py",
   "mimetype": "text/x-python",
   "name": "python",
   "nbconvert_exporter": "python",
   "pygments_lexer": "ipython3",
   "version": "3.7.5"
  }
 },
 "nbformat": 4,
 "nbformat_minor": 2
}
