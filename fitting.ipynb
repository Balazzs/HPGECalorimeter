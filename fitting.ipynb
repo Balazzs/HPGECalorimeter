{
 "cells": [
  {
   "cell_type": "code",
   "execution_count": 1,
   "metadata": {},
   "outputs": [],
   "source": [
    "import numpy as np\n",
    "from sklearn.preprocessing import MinMaxScaler\n",
    "from functools import partial\n",
    "\n",
    "from matplotlib import pyplot as plt"
   ]
  },
  {
   "cell_type": "code",
   "execution_count": 15,
   "metadata": {},
   "outputs": [],
   "source": [
    "w      = np.diag([1/6, 1/6, 1/6, 1/6, 1/6, 1/6])\n",
    "q_real = np.array([1,2,3, 5, 6, 4])"
   ]
  },
  {
   "cell_type": "code",
   "execution_count": 17,
   "metadata": {},
   "outputs": [],
   "source": [
    "#scalar product with weights\n",
    "def dot_w(a, b, w, q):\n",
    "    return sum([a(q_) * b(q_) * w[i, i] for i, q_ in enumerate(q)])"
   ]
  },
  {
   "cell_type": "code",
   "execution_count": 18,
   "metadata": {
    "scrolled": true
   },
   "outputs": [],
   "source": [
    "class OrthoPolyRef:\n",
    "    \n",
    "    def __init__(self, parent_set, i):\n",
    "        self.parent_set = parent_set\n",
    "        self.i          = i\n",
    "    \n",
    "    def __call__(self, q):\n",
    "        if isinstance(q, (list,tuple,np.ndarray)):\n",
    "            return np.array([self.parent_set.get_result(self.i, q_) for q_ in q])\n",
    "        \n",
    "        return self.parent_set.get_result(self.i, q)\n",
    "    \n",
    "class OrthoPolyBase:\n",
    "    \n",
    "    def __init__(self, q, w, order):\n",
    "        self.q_real = q\n",
    "        self.w      = w\n",
    "        \n",
    "        self.order  = order\n",
    "        \n",
    "        self.a      = [np.nan] * (order + 1)\n",
    "        self.b      = [np.nan] * (order + 1)\n",
    "        self.c      = [np.nan] * (order + 1)\n",
    "        \n",
    "        self.cache  = { }\n",
    "        \n",
    "        self._calculate_initial_state ()\n",
    "        self._calculate_params ()\n",
    "    \n",
    "    def _calculate_initial_state (self):\n",
    "        q_min, q_max = self.q_real.min(), self.q_real.max()\n",
    "        self.q = 2 * self.q_real / (q_max - q_min) - (q_max + q_min) / np.abs(q_max - q_min)\n",
    "        \n",
    "        self.b[0] = np.sqrt(w.sum())\n",
    "        self.c[0] = 1 / self.b[0]\n",
    "        \n",
    "        for q in self.q:\n",
    "            self.cache[(0, q)] = self.c[0]\n",
    "    \n",
    "    def _calculate_params(self):\n",
    "        for i in range(0, self.order):\n",
    "            qP = lambda q: q * self[i](q)\n",
    "            P  = self\n",
    "            \n",
    "            a = dot_w(P[i], qP, w, self.q)\n",
    "            c = 1 / np.sqrt( dot_w(qP, qP, w, self.q) - a**2 - (b**2 if i > 0 else 0) )\n",
    "            b = 1 / c\n",
    "            \n",
    "            self.a[i+1] = a\n",
    "            self.b[i+1] = b\n",
    "            self.c[i+1] = c\n",
    "            \n",
    "            for q in self.q:\n",
    "                self.cache[(i+1, q)] = c * ((q-a) * P[i](q) - (self.b[i] * P[i-1](q) if i > 0 else 0))\n",
    "    \n",
    "    def _calculate_result(self, i, q):\n",
    "        P  = self\n",
    "        \n",
    "        if i == 0:\n",
    "            return self.cache[(0, 1.0)]\n",
    "        \n",
    "        return self.c[i] * ((q - self.a[i]) * P[i-1](q) - (self.b[i-1] * P[i-2](q) if i > 1 else 0))\n",
    "    \n",
    "    def get_result(self, i, x):\n",
    "        #cache the q points\n",
    "        if x in self.q_real:\n",
    "            if (i, x) not in self.cache:\n",
    "                self.cache[(i, x)] = self._calculate_result(x)\n",
    "            \n",
    "            return self.cache[(i, x)]\n",
    "        else:\n",
    "            return self._calculate_result(i, x)\n",
    "    \n",
    "    def __getitem__(self, order):\n",
    "        return OrthoPolyRef(self, order)"
   ]
  },
  {
   "cell_type": "code",
   "execution_count": 19,
   "metadata": {
    "scrolled": true
   },
   "outputs": [],
   "source": [
    "base = OrthoPolyBase(q_real, w, 3)"
   ]
  },
  {
   "cell_type": "markdown",
   "metadata": {},
   "source": [
    "## Tests"
   ]
  },
  {
   "cell_type": "markdown",
   "metadata": {},
   "source": [
    "#### 0. order cached"
   ]
  },
  {
   "cell_type": "code",
   "execution_count": 20,
   "metadata": {},
   "outputs": [
    {
     "data": {
      "text/plain": [
       "1.0000000000000002"
      ]
     },
     "execution_count": 20,
     "metadata": {},
     "output_type": "execute_result"
    }
   ],
   "source": [
    "base[0](1)"
   ]
  },
  {
   "cell_type": "markdown",
   "metadata": {},
   "source": [
    "#### 0. order non-cached"
   ]
  },
  {
   "cell_type": "code",
   "execution_count": 21,
   "metadata": {},
   "outputs": [
    {
     "data": {
      "text/plain": [
       "1.0000000000000002"
      ]
     },
     "execution_count": 21,
     "metadata": {},
     "output_type": "execute_result"
    }
   ],
   "source": [
    "base[0](0.12345346724727)"
   ]
  },
  {
   "cell_type": "markdown",
   "metadata": {},
   "source": [
    "#### 1. order cached"
   ]
  },
  {
   "cell_type": "code",
   "execution_count": 22,
   "metadata": {},
   "outputs": [
    {
     "data": {
      "text/plain": [
       "1.4638501094227996"
      ]
     },
     "execution_count": 22,
     "metadata": {},
     "output_type": "execute_result"
    }
   ],
   "source": [
    "base[1](1)"
   ]
  },
  {
   "cell_type": "markdown",
   "metadata": {},
   "source": [
    "#### 1. order non-cached"
   ]
  },
  {
   "cell_type": "code",
   "execution_count": 23,
   "metadata": {},
   "outputs": [
    {
     "data": {
      "text/plain": [
       "0.18071737153854006"
      ]
     },
     "execution_count": 23,
     "metadata": {},
     "output_type": "execute_result"
    }
   ],
   "source": [
    "base[1](0.12345346724727)"
   ]
  },
  {
   "cell_type": "markdown",
   "metadata": {},
   "source": [
    "#### Cache"
   ]
  },
  {
   "cell_type": "code",
   "execution_count": 24,
   "metadata": {
    "scrolled": false
   },
   "outputs": [
    {
     "data": {
      "text/plain": [
       "{(0, -0.9999999999999999): 1.0000000000000002,\n",
       " (0, -0.5999999999999999): 1.0000000000000002,\n",
       " (0, -0.19999999999999996): 1.0000000000000002,\n",
       " (0, 0.6000000000000001): 1.0000000000000002,\n",
       " (0, 1.0): 1.0000000000000002,\n",
       " (0, 0.20000000000000018): 1.0000000000000002,\n",
       " (1, -0.9999999999999999): -1.4638501094227998,\n",
       " (1, -0.5999999999999999): -0.8783100656536799,\n",
       " (1, -0.19999999999999996): -0.2927700218845601,\n",
       " (1, 0.6000000000000001): 0.8783100656536799,\n",
       " (1, 1.0): 1.4638501094227996,\n",
       " (1, 0.20000000000000018): 0.2927700218845601,\n",
       " (2, -0.9999999999999999): 1.3363062095621219,\n",
       " (2, -0.5999999999999999): -0.267261241912425,\n",
       " (2, -0.19999999999999996): -1.0690449676496983,\n",
       " (2, 0.6000000000000001): -0.2672612419124246,\n",
       " (2, 1.0): 1.3363062095621219,\n",
       " (2, 0.20000000000000018): -1.0690449676496983,\n",
       " (3, -0.9999999999999999): -0.9128709291752771,\n",
       " (3, -0.5999999999999999): 1.2780193008453875,\n",
       " (3, -0.19999999999999996): 0.7302967433402215,\n",
       " (3, 0.6000000000000001): -1.2780193008453873,\n",
       " (3, 1.0): 0.9128709291752773,\n",
       " (3, 0.20000000000000018): -0.7302967433402219}"
      ]
     },
     "execution_count": 24,
     "metadata": {},
     "output_type": "execute_result"
    }
   ],
   "source": [
    "base.cache"
   ]
  },
  {
   "cell_type": "markdown",
   "metadata": {},
   "source": [
    "#### Polynomials"
   ]
  },
  {
   "cell_type": "code",
   "execution_count": 25,
   "metadata": {},
   "outputs": [
    {
     "data": {
      "image/png": "[encoded data removed]",
      "text/plain": [
       "<Figure size 432x288 with 1 Axes>"
      ]
     },
     "metadata": {
      "needs_background": "light"
     },
     "output_type": "display_data"
    }
   ],
   "source": [
    "x=np.linspace(-1, 1, 100)\n",
    "\n",
    "for i in range(4):\n",
    "    plt.plot(x, base[i](x))\n",
    "\n",
    "plt.xlabel(\"$q_{\\mathrm{norm}}$\");"
   ]
  }
 ],
 "metadata": {
  "kernelspec": {
   "display_name": "Python 3",
   "language": "python",
   "name": "python3"
  },
  "language_info": {
   "codemirror_mode": {
    "name": "ipython",
    "version": 3
   },
   "file_extension": ".py",
   "mimetype": "text/x-python",
   "name": "python",
   "nbconvert_exporter": "python",
   "pygments_lexer": "ipython3",
   "version": "3.7.5"
  }
 },
 "nbformat": 4,
 "nbformat_minor": 2
}
