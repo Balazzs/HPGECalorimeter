{
 "cells": [
  {
   "cell_type": "code",
   "execution_count": 53,
   "metadata": {},
   "outputs": [],
   "source": [
    "from matplotlib import pyplot as plt\n",
    "from matplotlib.colors import LogNorm\n",
    "\n",
    "import pandas as pd\n",
    "import numpy as np\n",
    "from scipy.signal import argrelmax\n",
    "\n",
    "from itertools import takewhile"
   ]
  },
  {
   "cell_type": "code",
   "execution_count": 2,
   "metadata": {},
   "outputs": [],
   "source": [
    "import math\n",
    "\n",
    "def format_exp (number, decimals=2):\n",
    "    def exp_(f):\n",
    "        return int(math.floor(math.log10(abs(f)))) if f != 0 else 0\n",
    "    \n",
    "    exponent = exp_(number)\n",
    "    mantissa = number / 10**exponent\n",
    "    \n",
    "    return \"%%.%if\" % decimals % mantissa + \"$\\\\times 10^{%s}$\" % exponent"
   ]
  },
  {
   "cell_type": "code",
   "execution_count": 37,
   "metadata": {},
   "outputs": [],
   "source": [
    "def read_file(folder_name = \"./\", file_name=\"B4_nt_B4_t%i.csv\", num_threads=4):\n",
    "    column_names = [\"Energy\", \"Track_length\"]\n",
    "    \n",
    "    data = pd.read_csv (file_name % 0, comment=\"#\", header=None, names=column_names)\n",
    "    for i in range(1, num_threads):\n",
    "        data = data.append(pd.read_csv (file_name % i, comment=\"#\", header=None, names=column_names))\n",
    "    \n",
    "    return data"
   ]
  },
  {
   "cell_type": "code",
   "execution_count": 146,
   "metadata": {},
   "outputs": [],
   "source": [
    "def SimpleHistogram(X, name=None, plot_peaks=False, alpha=None):\n",
    "    vals, bins, _ = plt.hist(X, 200, alpha=alpha);\n",
    "    \n",
    "    #ignore 0 and photopeak\n",
    "    ylim  = vals[1:-1].max() * 1.1\n",
    "    x_max = X.max()\n",
    "    \n",
    "    plt.ylim(0,ylim)\n",
    "    plt.xlabel(\"E absorbed [MeV]\")\n",
    "    plt.ylabel(\"# of events\")\n",
    "    \n",
    "    if bins[0] == 0:\n",
    "        plt.text(0     + 0.005, ylim * 0.9, \"<- %s\" % format_exp(vals[0]),  horizontalalignment='left',  fontsize=8)\n",
    "    \n",
    "    plt.text(x_max - 0.005, ylim * 0.9, \"%s ->\" % format_exp(vals[-1]), horizontalalignment='right', fontsize=8)\n",
    "    \n",
    "    if plot_peaks:\n",
    "        plot_peaks(bins[:-1], vals, ylim)\n",
    "    \n",
    "    if name:\n",
    "        plt.savefig(name + \".svg\")"
   ]
  },
  {
   "cell_type": "code",
   "execution_count": 50,
   "metadata": {},
   "outputs": [],
   "source": [
    "def plot_peaks(x, y, ylim, diff=100, order=50):\n",
    "    \n",
    "    inds = argrelmax(y, order=order)[0]\n",
    "    \n",
    "    for ind in inds:\n",
    "        plt.text(x[ind], min(y[ind], ylim)*0.9, \"E = %.2f ->\" % x[ind], horizontalalignment=\"right\")"
   ]
  },
  {
   "cell_type": "code",
   "execution_count": 57,
   "metadata": {},
   "outputs": [],
   "source": [
    "def plot_L_vs_E(data, name=None):\n",
    "    plt.hist2d(data[\"Track_length\"], data[\"Energy\"], 50, norm=LogNorm());\n",
    "    #plt.gca().set_aspect('equal', adjustable='box')\n",
    "    plt.gca().set_facecolor(\"lightgray\")\n",
    "    colbar = plt.colorbar();\n",
    "    colbar.set_label(\"# of events\")\n",
    "    \n",
    "    plt.xlabel(\"Track length [m]\")\n",
    "    plt.ylabel(\"E absorbed [MeV]\")\n",
    "    \n",
    "    if name:\n",
    "        plt.savefig(name + \".svg\")"
   ]
  },
  {
   "cell_type": "code",
   "execution_count": 142,
   "metadata": {},
   "outputs": [
    {
     "data": {
      "text/html": [
       "<div>\n",
       "<style scoped>\n",
       "    .dataframe tbody tr th:only-of-type {\n",
       "        vertical-align: middle;\n",
       "    }\n",
       "\n",
       "    .dataframe tbody tr th {\n",
       "        vertical-align: top;\n",
       "    }\n",
       "\n",
       "    .dataframe thead th {\n",
       "        text-align: right;\n",
       "    }\n",
       "</style>\n",
       "<table border=\"1\" class=\"dataframe\">\n",
       "  <thead>\n",
       "    <tr style=\"text-align: right;\">\n",
       "      <th></th>\n",
       "      <th>Energy</th>\n",
       "      <th>Track_length</th>\n",
       "    </tr>\n",
       "  </thead>\n",
       "  <tbody>\n",
       "    <tr>\n",
       "      <td>0</td>\n",
       "      <td>1.000000</td>\n",
       "      <td>0.914596</td>\n",
       "    </tr>\n",
       "    <tr>\n",
       "      <td>1</td>\n",
       "      <td>0.818028</td>\n",
       "      <td>1.045090</td>\n",
       "    </tr>\n",
       "    <tr>\n",
       "      <td>2</td>\n",
       "      <td>0.694412</td>\n",
       "      <td>0.916748</td>\n",
       "    </tr>\n",
       "    <tr>\n",
       "      <td>3</td>\n",
       "      <td>0.556754</td>\n",
       "      <td>0.490054</td>\n",
       "    </tr>\n",
       "    <tr>\n",
       "      <td>4</td>\n",
       "      <td>0.038119</td>\n",
       "      <td>0.008548</td>\n",
       "    </tr>\n",
       "    <tr>\n",
       "      <td>...</td>\n",
       "      <td>...</td>\n",
       "      <td>...</td>\n",
       "    </tr>\n",
       "    <tr>\n",
       "      <td>24801</td>\n",
       "      <td>0.519515</td>\n",
       "      <td>0.571066</td>\n",
       "    </tr>\n",
       "    <tr>\n",
       "      <td>24802</td>\n",
       "      <td>0.751980</td>\n",
       "      <td>0.690231</td>\n",
       "    </tr>\n",
       "    <tr>\n",
       "      <td>24803</td>\n",
       "      <td>1.000000</td>\n",
       "      <td>0.740474</td>\n",
       "    </tr>\n",
       "    <tr>\n",
       "      <td>24804</td>\n",
       "      <td>0.627355</td>\n",
       "      <td>0.446020</td>\n",
       "    </tr>\n",
       "    <tr>\n",
       "      <td>24805</td>\n",
       "      <td>1.000000</td>\n",
       "      <td>0.686442</td>\n",
       "    </tr>\n",
       "  </tbody>\n",
       "</table>\n",
       "<p>100000 rows × 2 columns</p>\n",
       "</div>"
      ],
      "text/plain": [
       "         Energy  Track_length\n",
       "0      1.000000      0.914596\n",
       "1      0.818028      1.045090\n",
       "2      0.694412      0.916748\n",
       "3      0.556754      0.490054\n",
       "4      0.038119      0.008548\n",
       "...         ...           ...\n",
       "24801  0.519515      0.571066\n",
       "24802  0.751980      0.690231\n",
       "24803  1.000000      0.740474\n",
       "24804  0.627355      0.446020\n",
       "24805  1.000000      0.686442\n",
       "\n",
       "[100000 rows x 2 columns]"
      ]
     },
     "execution_count": 142,
     "metadata": {},
     "output_type": "execute_result"
    }
   ],
   "source": [
    "data = read_file()\n",
    "data"
   ]
  },
  {
   "cell_type": "code",
   "execution_count": 130,
   "metadata": {
    "scrolled": true
   },
   "outputs": [
    {
     "data": {
      "image/png": "[encoded data removed]",
      "text/plain": [
       "<Figure size 432x288 with 1 Axes>"
      ]
     },
     "metadata": {
      "needs_background": "light"
     },
     "output_type": "display_data"
    }
   ],
   "source": [
    "SimpleHistogram(data[\"Energy\"])"
   ]
  },
  {
   "cell_type": "code",
   "execution_count": 131,
   "metadata": {},
   "outputs": [
    {
     "data": {
      "text/plain": [
       "0         (0.8, inf]\n",
       "1         (0.8, inf]\n",
       "2         (0.8, inf]\n",
       "3        (-inf, 0.8]\n",
       "4        (-inf, 0.8]\n",
       "            ...     \n",
       "24801    (-inf, 0.8]\n",
       "24802    (-inf, 0.8]\n",
       "24803    (-inf, 0.8]\n",
       "24804    (-inf, 0.8]\n",
       "24805    (-inf, 0.8]\n",
       "Name: Track_length, Length: 100000, dtype: category\n",
       "Categories (2, interval[float64]): [(-inf, 0.8] < (0.8, inf]]"
      ]
     },
     "execution_count": 131,
     "metadata": {},
     "output_type": "execute_result"
    }
   ],
   "source": [
    "pd.cut(data[\"Track_length\"], [-np.inf, 0.8, np.inf])"
   ]
  },
  {
   "cell_type": "code",
   "execution_count": 132,
   "metadata": {},
   "outputs": [],
   "source": [
    "asd = data.groupby(pd.cut(data[\"Track_length\"], [-np.inf, 0.8, np.inf]))"
   ]
  },
  {
   "cell_type": "code",
   "execution_count": 133,
   "metadata": {},
   "outputs": [
    {
     "data": {
      "text/plain": [
       "(0, 1500)"
      ]
     },
     "execution_count": 133,
     "metadata": {},
     "output_type": "execute_result"
    },
    {
     "data": {
      "image/png": "[encoded data removed]",
      "text/plain": [
       "<Figure size 432x288 with 1 Axes>"
      ]
     },
     "metadata": {
      "needs_background": "light"
     },
     "output_type": "display_data"
    }
   ],
   "source": [
    "asd[\"Energy\"].hist(stacked=True, alpha=0.8, bins=50)\n",
    "plt.ylim(0, 1500)"
   ]
  },
  {
   "cell_type": "code",
   "execution_count": 134,
   "metadata": {},
   "outputs": [
    {
     "data": {
      "text/plain": [
       "(0, 5000)"
      ]
     },
     "execution_count": 134,
     "metadata": {},
     "output_type": "execute_result"
    },
    {
     "data": {
      "image/png": "[encoded data removed]",
      "text/plain": [
       "<Figure size 432x288 with 1 Axes>"
      ]
     },
     "metadata": {
      "needs_background": "light"
     },
     "output_type": "display_data"
    }
   ],
   "source": [
    "\n",
    "asd = [data[data[\"Track_length\"] <= 0.4][\"Energy\"], data[data[\"Track_length\"] <= 0.8][\"Energy\"], data[data[\"Track_length\"] > 0.8][\"Energy\"]]\n",
    "plt.hist(asd, stacked=True, bins=30);\n",
    "plt.ylim(0, 5000)"
   ]
  },
  {
   "cell_type": "code",
   "execution_count": 135,
   "metadata": {},
   "outputs": [
    {
     "data": {
      "image/png": "[encoded data removed]",
      "text/plain": [
       "<Figure size 432x288 with 2 Axes>"
      ]
     },
     "metadata": {
      "needs_background": "light"
     },
     "output_type": "display_data"
    }
   ],
   "source": [
    "plot_L_vs_E(data)"
   ]
  },
  {
   "cell_type": "code",
   "execution_count": 136,
   "metadata": {
    "scrolled": false
   },
   "outputs": [
    {
     "data": {
      "image/png": "[encoded data removed]",
      "text/plain": [
       "<Figure size 432x288 with 1 Axes>"
      ]
     },
     "metadata": {
      "needs_background": "light"
     },
     "output_type": "display_data"
    }
   ],
   "source": [
    "plt.hist(data[\"Track_length\"], bins=30);"
   ]
  },
  {
   "cell_type": "code",
   "execution_count": 137,
   "metadata": {},
   "outputs": [],
   "source": [
    "from scipy.stats import binned_statistic\n",
    "\n",
    "avg, edges, _ = binned_statistic(data[\"Energy\"], data[\"Track_length\"], 'mean', bins=50)\n",
    "x_ = edges[:-1]"
   ]
  },
  {
   "cell_type": "code",
   "execution_count": 138,
   "metadata": {},
   "outputs": [
    {
     "name": "stderr",
     "output_type": "stream",
     "text": [
      "/home/balazzs/.local/lib/python3.7/site-packages/ipykernel_launcher.py:1: RuntimeWarning: divide by zero encountered in true_divide\n",
      "  \"\"\"Entry point for launching an IPython kernel.\n"
     ]
    },
    {
     "data": {
      "text/plain": [
       "Text(0, 0.5, 'Average track length')"
      ]
     },
     "execution_count": 138,
     "metadata": {},
     "output_type": "execute_result"
    },
    {
     "data": {
      "image/png": "[encoded data removed]",
      "text/plain": [
       "<Figure size 432x288 with 1 Axes>"
      ]
     },
     "metadata": {
      "needs_background": "light"
     },
     "output_type": "display_data"
    }
   ],
   "source": [
    "plt.plot(x_, avg/x_, \"o\")\n",
    "plt.xlabel(\"Energy absorbed\")\n",
    "plt.ylabel(\"Average track length\")"
   ]
  },
  {
   "cell_type": "code",
   "execution_count": null,
   "metadata": {},
   "outputs": [],
   "source": []
  },
  {
   "cell_type": "code",
   "execution_count": 147,
   "metadata": {},
   "outputs": [
    {
     "data": {
      "image/png": "[encoded data removed]",
      "text/plain": [
       "<Figure size 432x288 with 1 Axes>"
      ]
     },
     "metadata": {
      "needs_background": "light"
     },
     "output_type": "display_data"
    }
   ],
   "source": [
    "data_QBBC = read_file(\".\", \"B4_nt_B4_QBBC__t%i.csv\")\n",
    "SimpleHistogram(data[\"Energy\"]     , alpha=0.5)\n",
    "SimpleHistogram(data_QBBC[\"Energy\"], alpha=0.5)"
   ]
  },
  {
   "cell_type": "code",
   "execution_count": null,
   "metadata": {},
   "outputs": [],
   "source": []
  }
 ],
 "metadata": {
  "kernelspec": {
   "display_name": "Python 3",
   "language": "python",
   "name": "python3"
  },
  "language_info": {
   "codemirror_mode": {
    "name": "ipython",
    "version": 3
   },
   "file_extension": ".py",
   "mimetype": "text/x-python",
   "name": "python",
   "nbconvert_exporter": "python",
   "pygments_lexer": "ipython3",
   "version": "3.7.5"
  }
 },
 "nbformat": 4,
 "nbformat_minor": 2
}
